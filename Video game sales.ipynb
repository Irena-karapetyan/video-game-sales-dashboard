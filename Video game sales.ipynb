{
 "cells": [
  {
   "cell_type": "code",
   "execution_count": 2,
   "id": "95ee68bc-03dd-4cdc-90e6-63d5905abb9e",
   "metadata": {},
   "outputs": [],
   "source": [
    "import pandas as pd\n"
   ]
  },
  {
   "cell_type": "markdown",
   "id": "c4ccf487-ed61-439d-9403-dddc2c8b72fa",
   "metadata": {},
   "source": [
    " ### Загрузка данных"
   ]
  },
  {
   "cell_type": "code",
   "execution_count": 7,
   "id": "0128b242-edb7-49ad-b9c0-792532b7f953",
   "metadata": {},
   "outputs": [],
   "source": [
    "\n",
    "df = pd.read_csv('/Users/user/Desktop/PS4_GamesSales.csv', encoding='latin1')"
   ]
  },
  {
   "cell_type": "code",
   "execution_count": 8,
   "id": "55a3b8ef-f490-49db-93a4-4a91b9cf2920",
   "metadata": {
    "scrolled": true
   },
   "outputs": [
    {
     "data": {
      "text/html": [
       "<div>\n",
       "<style scoped>\n",
       "    .dataframe tbody tr th:only-of-type {\n",
       "        vertical-align: middle;\n",
       "    }\n",
       "\n",
       "    .dataframe tbody tr th {\n",
       "        vertical-align: top;\n",
       "    }\n",
       "\n",
       "    .dataframe thead th {\n",
       "        text-align: right;\n",
       "    }\n",
       "</style>\n",
       "<table border=\"1\" class=\"dataframe\">\n",
       "  <thead>\n",
       "    <tr style=\"text-align: right;\">\n",
       "      <th></th>\n",
       "      <th>Game</th>\n",
       "      <th>Year</th>\n",
       "      <th>Genre</th>\n",
       "      <th>Publisher</th>\n",
       "      <th>North America</th>\n",
       "      <th>Europe</th>\n",
       "      <th>Japan</th>\n",
       "      <th>Rest of World</th>\n",
       "      <th>Global</th>\n",
       "    </tr>\n",
       "  </thead>\n",
       "  <tbody>\n",
       "    <tr>\n",
       "      <th>0</th>\n",
       "      <td>Grand Theft Auto V</td>\n",
       "      <td>2014.0</td>\n",
       "      <td>Action</td>\n",
       "      <td>Rockstar Games</td>\n",
       "      <td>6.06</td>\n",
       "      <td>9.71</td>\n",
       "      <td>0.60</td>\n",
       "      <td>3.02</td>\n",
       "      <td>19.39</td>\n",
       "    </tr>\n",
       "    <tr>\n",
       "      <th>1</th>\n",
       "      <td>Call of Duty: Black Ops 3</td>\n",
       "      <td>2015.0</td>\n",
       "      <td>Shooter</td>\n",
       "      <td>Activision</td>\n",
       "      <td>6.18</td>\n",
       "      <td>6.05</td>\n",
       "      <td>0.41</td>\n",
       "      <td>2.44</td>\n",
       "      <td>15.09</td>\n",
       "    </tr>\n",
       "    <tr>\n",
       "      <th>2</th>\n",
       "      <td>Red Dead Redemption 2</td>\n",
       "      <td>2018.0</td>\n",
       "      <td>Action-Adventure</td>\n",
       "      <td>Rockstar Games</td>\n",
       "      <td>5.26</td>\n",
       "      <td>6.21</td>\n",
       "      <td>0.21</td>\n",
       "      <td>2.26</td>\n",
       "      <td>13.94</td>\n",
       "    </tr>\n",
       "    <tr>\n",
       "      <th>3</th>\n",
       "      <td>Call of Duty: WWII</td>\n",
       "      <td>2017.0</td>\n",
       "      <td>Shooter</td>\n",
       "      <td>Activision</td>\n",
       "      <td>4.67</td>\n",
       "      <td>6.21</td>\n",
       "      <td>0.40</td>\n",
       "      <td>2.12</td>\n",
       "      <td>13.40</td>\n",
       "    </tr>\n",
       "    <tr>\n",
       "      <th>4</th>\n",
       "      <td>FIFA 18</td>\n",
       "      <td>2017.0</td>\n",
       "      <td>Sports</td>\n",
       "      <td>EA Sports</td>\n",
       "      <td>1.27</td>\n",
       "      <td>8.64</td>\n",
       "      <td>0.15</td>\n",
       "      <td>1.73</td>\n",
       "      <td>11.80</td>\n",
       "    </tr>\n",
       "  </tbody>\n",
       "</table>\n",
       "</div>"
      ],
      "text/plain": [
       "                        Game    Year             Genre       Publisher  \\\n",
       "0         Grand Theft Auto V  2014.0            Action  Rockstar Games   \n",
       "1  Call of Duty: Black Ops 3  2015.0           Shooter      Activision   \n",
       "2      Red Dead Redemption 2  2018.0  Action-Adventure  Rockstar Games   \n",
       "3         Call of Duty: WWII  2017.0           Shooter      Activision   \n",
       "4                    FIFA 18  2017.0            Sports       EA Sports   \n",
       "\n",
       "   North America  Europe  Japan  Rest of World  Global  \n",
       "0           6.06    9.71   0.60           3.02   19.39  \n",
       "1           6.18    6.05   0.41           2.44   15.09  \n",
       "2           5.26    6.21   0.21           2.26   13.94  \n",
       "3           4.67    6.21   0.40           2.12   13.40  \n",
       "4           1.27    8.64   0.15           1.73   11.80  "
      ]
     },
     "execution_count": 8,
     "metadata": {},
     "output_type": "execute_result"
    }
   ],
   "source": [
    "df.head()\n"
   ]
  },
  {
   "cell_type": "code",
   "execution_count": 9,
   "id": "e0bed738-342a-482c-bb3d-9a4f1b7aa176",
   "metadata": {},
   "outputs": [
    {
     "data": {
      "text/plain": [
       "<bound method DataFrame.info of                                     Game    Year             Genre  \\\n",
       "0                     Grand Theft Auto V  2014.0            Action   \n",
       "1              Call of Duty: Black Ops 3  2015.0           Shooter   \n",
       "2                  Red Dead Redemption 2  2018.0  Action-Adventure   \n",
       "3                     Call of Duty: WWII  2017.0           Shooter   \n",
       "4                                FIFA 18  2017.0            Sports   \n",
       "...                                  ...     ...               ...   \n",
       "1029  Fallen Legion: Flames of Rebellion     NaN      Role-Playing   \n",
       "1030            Radial G Racing Revolved  2017.0            Racing   \n",
       "1031                The Mummy Demastered     NaN            Action   \n",
       "1032          Project Nimbus: Code Mirai     NaN            Action   \n",
       "1033                 Battle Chef Brigade     NaN            Action   \n",
       "\n",
       "           Publisher  North America  Europe  Japan  Rest of World  Global  \n",
       "0     Rockstar Games           6.06    9.71   0.60           3.02   19.39  \n",
       "1         Activision           6.18    6.05   0.41           2.44   15.09  \n",
       "2     Rockstar Games           5.26    6.21   0.21           2.26   13.94  \n",
       "3         Activision           4.67    6.21   0.40           2.12   13.40  \n",
       "4          EA Sports           1.27    8.64   0.15           1.73   11.80  \n",
       "...              ...            ...     ...    ...            ...     ...  \n",
       "1029             NaN           0.00    0.00   0.00           0.00    0.00  \n",
       "1030   Tammeka Games           0.00    0.00   0.00           0.00    0.00  \n",
       "1031             NaN           0.00    0.00   0.00           0.00    0.00  \n",
       "1032             NaN           0.00    0.00   0.00           0.00    0.00  \n",
       "1033             NaN           0.00    0.00   0.00           0.00    0.00  \n",
       "\n",
       "[1034 rows x 9 columns]>"
      ]
     },
     "execution_count": 9,
     "metadata": {},
     "output_type": "execute_result"
    }
   ],
   "source": [
    "df.info"
   ]
  },
  {
   "cell_type": "markdown",
   "id": "4ed57e53-f16c-49c5-a43a-70b9ba8992a6",
   "metadata": {},
   "source": [
    "### Проверка пропущенных значений"
   ]
  },
  {
   "cell_type": "code",
   "execution_count": 10,
   "id": "b32578d7-61f1-47a9-8161-f3a0a49bbe32",
   "metadata": {},
   "outputs": [
    {
     "data": {
      "text/plain": [
       "Game               0\n",
       "Year             209\n",
       "Genre              0\n",
       "Publisher        209\n",
       "North America      0\n",
       "Europe             0\n",
       "Japan              0\n",
       "Rest of World      0\n",
       "Global             0\n",
       "dtype: int64"
      ]
     },
     "execution_count": 10,
     "metadata": {},
     "output_type": "execute_result"
    }
   ],
   "source": [
    "\n",
    "df.isnull().sum()\n"
   ]
  },
  {
   "cell_type": "code",
   "execution_count": 11,
   "id": "1b8cf4e6-2e7d-48f4-9dab-79ba675e3795",
   "metadata": {},
   "outputs": [],
   "source": [
    "df['Year'] = df['Year'].fillna(df['Year'].median())\n",
    "# обработка пропущенных значений"
   ]
  },
  {
   "cell_type": "code",
   "execution_count": 12,
   "id": "8969e80c-c718-4f4e-98a0-80cf69d9dd11",
   "metadata": {},
   "outputs": [],
   "source": [
    "df['Publisher'] = df['Publisher'].fillna('Unknown')\n"
   ]
  },
  {
   "cell_type": "code",
   "execution_count": 13,
   "id": "1925e406-dc2d-4064-8e88-3122f11a0b16",
   "metadata": {},
   "outputs": [
    {
     "data": {
      "text/plain": [
       "Game             0\n",
       "Year             0\n",
       "Genre            0\n",
       "Publisher        0\n",
       "North America    0\n",
       "Europe           0\n",
       "Japan            0\n",
       "Rest of World    0\n",
       "Global           0\n",
       "dtype: int64"
      ]
     },
     "execution_count": 13,
     "metadata": {},
     "output_type": "execute_result"
    }
   ],
   "source": [
    "df.isnull().sum()"
   ]
  },
  {
   "cell_type": "code",
   "execution_count": 14,
   "id": "cdc03091-9474-4b84-bfdf-1b7ba68da044",
   "metadata": {},
   "outputs": [],
   "source": [
    "df['Year'] = df['Year'].astype(int)"
   ]
  },
  {
   "cell_type": "code",
   "execution_count": 15,
   "id": "559a5d08-3c2b-4ac4-8b7f-2fee64a177af",
   "metadata": {},
   "outputs": [
    {
     "data": {
      "text/html": [
       "<div>\n",
       "<style scoped>\n",
       "    .dataframe tbody tr th:only-of-type {\n",
       "        vertical-align: middle;\n",
       "    }\n",
       "\n",
       "    .dataframe tbody tr th {\n",
       "        vertical-align: top;\n",
       "    }\n",
       "\n",
       "    .dataframe thead th {\n",
       "        text-align: right;\n",
       "    }\n",
       "</style>\n",
       "<table border=\"1\" class=\"dataframe\">\n",
       "  <thead>\n",
       "    <tr style=\"text-align: right;\">\n",
       "      <th></th>\n",
       "      <th>Game</th>\n",
       "      <th>Year</th>\n",
       "      <th>Genre</th>\n",
       "      <th>Publisher</th>\n",
       "      <th>North America</th>\n",
       "      <th>Europe</th>\n",
       "      <th>Japan</th>\n",
       "      <th>Rest of World</th>\n",
       "      <th>Global</th>\n",
       "    </tr>\n",
       "  </thead>\n",
       "  <tbody>\n",
       "    <tr>\n",
       "      <th>0</th>\n",
       "      <td>Grand Theft Auto V</td>\n",
       "      <td>2014</td>\n",
       "      <td>Action</td>\n",
       "      <td>Rockstar Games</td>\n",
       "      <td>6.06</td>\n",
       "      <td>9.71</td>\n",
       "      <td>0.60</td>\n",
       "      <td>3.02</td>\n",
       "      <td>19.39</td>\n",
       "    </tr>\n",
       "    <tr>\n",
       "      <th>1</th>\n",
       "      <td>Call of Duty: Black Ops 3</td>\n",
       "      <td>2015</td>\n",
       "      <td>Shooter</td>\n",
       "      <td>Activision</td>\n",
       "      <td>6.18</td>\n",
       "      <td>6.05</td>\n",
       "      <td>0.41</td>\n",
       "      <td>2.44</td>\n",
       "      <td>15.09</td>\n",
       "    </tr>\n",
       "    <tr>\n",
       "      <th>2</th>\n",
       "      <td>Red Dead Redemption 2</td>\n",
       "      <td>2018</td>\n",
       "      <td>Action-Adventure</td>\n",
       "      <td>Rockstar Games</td>\n",
       "      <td>5.26</td>\n",
       "      <td>6.21</td>\n",
       "      <td>0.21</td>\n",
       "      <td>2.26</td>\n",
       "      <td>13.94</td>\n",
       "    </tr>\n",
       "    <tr>\n",
       "      <th>3</th>\n",
       "      <td>Call of Duty: WWII</td>\n",
       "      <td>2017</td>\n",
       "      <td>Shooter</td>\n",
       "      <td>Activision</td>\n",
       "      <td>4.67</td>\n",
       "      <td>6.21</td>\n",
       "      <td>0.40</td>\n",
       "      <td>2.12</td>\n",
       "      <td>13.40</td>\n",
       "    </tr>\n",
       "    <tr>\n",
       "      <th>4</th>\n",
       "      <td>FIFA 18</td>\n",
       "      <td>2017</td>\n",
       "      <td>Sports</td>\n",
       "      <td>EA Sports</td>\n",
       "      <td>1.27</td>\n",
       "      <td>8.64</td>\n",
       "      <td>0.15</td>\n",
       "      <td>1.73</td>\n",
       "      <td>11.80</td>\n",
       "    </tr>\n",
       "  </tbody>\n",
       "</table>\n",
       "</div>"
      ],
      "text/plain": [
       "                        Game  Year             Genre       Publisher  \\\n",
       "0         Grand Theft Auto V  2014            Action  Rockstar Games   \n",
       "1  Call of Duty: Black Ops 3  2015           Shooter      Activision   \n",
       "2      Red Dead Redemption 2  2018  Action-Adventure  Rockstar Games   \n",
       "3         Call of Duty: WWII  2017           Shooter      Activision   \n",
       "4                    FIFA 18  2017            Sports       EA Sports   \n",
       "\n",
       "   North America  Europe  Japan  Rest of World  Global  \n",
       "0           6.06    9.71   0.60           3.02   19.39  \n",
       "1           6.18    6.05   0.41           2.44   15.09  \n",
       "2           5.26    6.21   0.21           2.26   13.94  \n",
       "3           4.67    6.21   0.40           2.12   13.40  \n",
       "4           1.27    8.64   0.15           1.73   11.80  "
      ]
     },
     "execution_count": 15,
     "metadata": {},
     "output_type": "execute_result"
    }
   ],
   "source": [
    "df.head()"
   ]
  },
  {
   "cell_type": "markdown",
   "id": "27767acf-8b51-4332-ba7d-bf5ea6129080",
   "metadata": {},
   "source": [
    "### Удаление дубликатов"
   ]
  },
  {
   "cell_type": "code",
   "execution_count": 16,
   "id": "82a65bc6-0b4c-45d9-a972-43a99659c9f0",
   "metadata": {},
   "outputs": [],
   "source": [
    "df = df.drop_duplicates()\n",
    "# Удаление дубликатов"
   ]
  },
  {
   "cell_type": "code",
   "execution_count": 17,
   "id": "6e2a4584-74d0-4031-a381-05b7b6cfeeed",
   "metadata": {},
   "outputs": [
    {
     "data": {
      "text/html": [
       "<div>\n",
       "<style scoped>\n",
       "    .dataframe tbody tr th:only-of-type {\n",
       "        vertical-align: middle;\n",
       "    }\n",
       "\n",
       "    .dataframe tbody tr th {\n",
       "        vertical-align: top;\n",
       "    }\n",
       "\n",
       "    .dataframe thead th {\n",
       "        text-align: right;\n",
       "    }\n",
       "</style>\n",
       "<table border=\"1\" class=\"dataframe\">\n",
       "  <thead>\n",
       "    <tr style=\"text-align: right;\">\n",
       "      <th></th>\n",
       "      <th>Game</th>\n",
       "      <th>Year</th>\n",
       "      <th>Genre</th>\n",
       "      <th>Publisher</th>\n",
       "      <th>North America</th>\n",
       "      <th>Europe</th>\n",
       "      <th>Japan</th>\n",
       "      <th>Rest of World</th>\n",
       "      <th>Global</th>\n",
       "    </tr>\n",
       "  </thead>\n",
       "  <tbody>\n",
       "    <tr>\n",
       "      <th>0</th>\n",
       "      <td>Grand Theft Auto V</td>\n",
       "      <td>2014</td>\n",
       "      <td>Action</td>\n",
       "      <td>Rockstar Games</td>\n",
       "      <td>6.06</td>\n",
       "      <td>9.71</td>\n",
       "      <td>0.60</td>\n",
       "      <td>3.02</td>\n",
       "      <td>19.39</td>\n",
       "    </tr>\n",
       "    <tr>\n",
       "      <th>1</th>\n",
       "      <td>Call of Duty: Black Ops 3</td>\n",
       "      <td>2015</td>\n",
       "      <td>Shooter</td>\n",
       "      <td>Activision</td>\n",
       "      <td>6.18</td>\n",
       "      <td>6.05</td>\n",
       "      <td>0.41</td>\n",
       "      <td>2.44</td>\n",
       "      <td>15.09</td>\n",
       "    </tr>\n",
       "    <tr>\n",
       "      <th>2</th>\n",
       "      <td>Red Dead Redemption 2</td>\n",
       "      <td>2018</td>\n",
       "      <td>Action-Adventure</td>\n",
       "      <td>Rockstar Games</td>\n",
       "      <td>5.26</td>\n",
       "      <td>6.21</td>\n",
       "      <td>0.21</td>\n",
       "      <td>2.26</td>\n",
       "      <td>13.94</td>\n",
       "    </tr>\n",
       "    <tr>\n",
       "      <th>3</th>\n",
       "      <td>Call of Duty: WWII</td>\n",
       "      <td>2017</td>\n",
       "      <td>Shooter</td>\n",
       "      <td>Activision</td>\n",
       "      <td>4.67</td>\n",
       "      <td>6.21</td>\n",
       "      <td>0.40</td>\n",
       "      <td>2.12</td>\n",
       "      <td>13.40</td>\n",
       "    </tr>\n",
       "    <tr>\n",
       "      <th>4</th>\n",
       "      <td>FIFA 18</td>\n",
       "      <td>2017</td>\n",
       "      <td>Sports</td>\n",
       "      <td>EA Sports</td>\n",
       "      <td>1.27</td>\n",
       "      <td>8.64</td>\n",
       "      <td>0.15</td>\n",
       "      <td>1.73</td>\n",
       "      <td>11.80</td>\n",
       "    </tr>\n",
       "  </tbody>\n",
       "</table>\n",
       "</div>"
      ],
      "text/plain": [
       "                        Game  Year             Genre       Publisher  \\\n",
       "0         Grand Theft Auto V  2014            Action  Rockstar Games   \n",
       "1  Call of Duty: Black Ops 3  2015           Shooter      Activision   \n",
       "2      Red Dead Redemption 2  2018  Action-Adventure  Rockstar Games   \n",
       "3         Call of Duty: WWII  2017           Shooter      Activision   \n",
       "4                    FIFA 18  2017            Sports       EA Sports   \n",
       "\n",
       "   North America  Europe  Japan  Rest of World  Global  \n",
       "0           6.06    9.71   0.60           3.02   19.39  \n",
       "1           6.18    6.05   0.41           2.44   15.09  \n",
       "2           5.26    6.21   0.21           2.26   13.94  \n",
       "3           4.67    6.21   0.40           2.12   13.40  \n",
       "4           1.27    8.64   0.15           1.73   11.80  "
      ]
     },
     "execution_count": 17,
     "metadata": {},
     "output_type": "execute_result"
    }
   ],
   "source": [
    "df.head()"
   ]
  },
  {
   "cell_type": "markdown",
   "id": "464d574b-4392-44d2-8edb-ff8ae580d440",
   "metadata": {},
   "source": [
    "### Топ 5 жанров по глобальным продажам\n"
   ]
  },
  {
   "cell_type": "code",
   "execution_count": 33,
   "id": "a65f72fb-781f-45e3-830f-3cdbd72883d6",
   "metadata": {},
   "outputs": [],
   "source": [
    "top5_genres_global = (\n",
    "    df.groupby('Genre')['Global']\n",
    "    .sum()\n",
    "    .sort_values(ascending=False)\n",
    "    .head(5)\n",
    "    .reset_index()\n",
    ")\n",
    "top5_genres_global.to_csv('/Users/user/Desktop/top5_genres_global.csv', index=False)\n"
   ]
  },
  {
   "cell_type": "code",
   "execution_count": 19,
   "id": "5cb8d267-285a-4b01-87a0-165a9a597a49",
   "metadata": {},
   "outputs": [
    {
     "name": "stdout",
     "output_type": "stream",
     "text": [
      "              Genre  Global\n",
      "0            Action  136.85\n",
      "1           Shooter  134.99\n",
      "2            Sports   92.85\n",
      "3      Role-Playing   62.82\n",
      "4  Action-Adventure   61.86\n"
     ]
    }
   ],
   "source": [
    "print(top5_genres_global)\n"
   ]
  },
  {
   "cell_type": "markdown",
   "id": "a7b79580-34a7-4dcb-85b1-c4d86a8c0d04",
   "metadata": {},
   "source": [
    "### Продажи жанров по регионам"
   ]
  },
  {
   "cell_type": "code",
   "execution_count": 30,
   "id": "1438360c-9ee3-48e9-9be7-690a54fe01df",
   "metadata": {},
   "outputs": [],
   "source": [
    "genres_by_region = (\n",
    "    df.groupby('Genre')[['North America', 'Europe', 'Japan', 'Rest of World']]\n",
    "    .sum()\n",
    "    .reset_index()\n",
    ")\n",
    "genres_by_region.to_csv('/Users/user/Desktop/genres_by_region.csv', index=False)\n"
   ]
  },
  {
   "cell_type": "markdown",
   "id": "0d5eff8f-45a4-4abe-a977-bd34e8ca7608",
   "metadata": {},
   "source": [
    "### Продажи \"Action\" жанра по регионам"
   ]
  },
  {
   "cell_type": "code",
   "execution_count": 31,
   "id": "4d2a40dc-d0b2-4740-9764-37c32fac6af4",
   "metadata": {},
   "outputs": [],
   "source": [
    "genre = \"Action\"\n",
    "genre_region_share = (\n",
    "    df[df['Genre'] == genre][['North America', 'Europe', 'Japan', 'Rest of World']]\n",
    "    .sum()\n",
    "    .reset_index()\n",
    ")\n",
    "genre_region_share.columns = ['Region', 'Sales']\n",
    "genre_region_share.to_csv('/Users/user/Desktop/genre_region_share.csv', index=False)\n"
   ]
  },
  {
   "cell_type": "markdown",
   "id": "c0139e6d-a056-4e93-88b3-1f1066f46a10",
   "metadata": {},
   "source": [
    "### Продажи жанров по годам"
   ]
  },
  {
   "cell_type": "code",
   "execution_count": 32,
   "id": "d83a2f6d-b897-4b93-9e80-148e2cde7ec6",
   "metadata": {},
   "outputs": [],
   "source": [
    "genre_trend = (\n",
    "    df.groupby(['Year', 'Genre'])['Global']\n",
    "    .sum()\n",
    "    .reset_index()\n",
    ")\n",
    "genre_trend.to_csv('/Users/user/Desktop/genre_trend.csv', index=False)\n"
   ]
  },
  {
   "cell_type": "code",
   "execution_count": 27,
   "id": "80965f41-8642-4f59-97d8-b20c189e5edf",
   "metadata": {},
   "outputs": [
    {
     "name": "stdout",
     "output_type": "stream",
     "text": [
      "               Genre  North America  Europe  Japan  Rest of World\n",
      "0             Action          48.15   57.53  10.27          20.76\n",
      "1   Action-Adventure          22.30   27.79   1.96           9.83\n",
      "2          Adventure           5.27    6.08   1.64           2.23\n",
      "3           Fighting           8.58    6.19   1.67           2.98\n",
      "4                MMO           1.32    1.45   0.20           0.55\n",
      "5               Misc           3.64    6.03   0.96           1.85\n",
      "6              Music           2.40    1.62   0.17           0.84\n",
      "7              Party           0.09    0.47   0.00           0.10\n",
      "8           Platform           5.48    8.92   0.67           2.77\n",
      "9             Puzzle           0.28    0.16   0.00           0.10\n",
      "10            Racing           5.86   14.77   0.76           3.81\n",
      "11      Role-Playing          22.15   22.40   9.42           8.91\n",
      "12           Shooter          50.50   58.64   4.42          21.48\n",
      "13        Simulation           1.47    2.07   0.28           0.71\n",
      "14            Sports          33.31   42.81   1.83          14.90\n",
      "15          Strategy           0.57    0.22   0.34           0.17\n",
      "16      Visual Novel           0.20    0.02   0.19           0.05\n",
      "          Region  Sales\n",
      "0  North America  48.15\n",
      "1         Europe  57.53\n",
      "2          Japan  10.27\n",
      "3  Rest of World  20.76\n",
      "    Year             Genre  Global\n",
      "0   2013            Action    1.91\n",
      "1   2013  Action-Adventure    3.19\n",
      "2   2013          Fighting    0.98\n",
      "3   2013               MMO    0.00\n",
      "4   2013              Misc    0.44\n",
      "..   ...               ...     ...\n",
      "90  2019           Shooter    0.00\n",
      "91  2020            Action    0.00\n",
      "92  2020              Misc    0.00\n",
      "93  2020            Racing    0.00\n",
      "94  2020      Role-Playing    0.00\n",
      "\n",
      "[95 rows x 3 columns]\n"
     ]
    }
   ],
   "source": [
    "print(genres_by_region)\n",
    "print(genre_region_share)\n",
    "print(genre_trend)"
   ]
  },
  {
   "cell_type": "code",
   "execution_count": null,
   "id": "b512e961-18fd-4d6a-8031-a4dff737e21e",
   "metadata": {},
   "outputs": [],
   "source": []
  }
 ],
 "metadata": {
  "kernelspec": {
   "display_name": "Python 3 (ipykernel)",
   "language": "python",
   "name": "python3"
  },
  "language_info": {
   "codemirror_mode": {
    "name": "ipython",
    "version": 3
   },
   "file_extension": ".py",
   "mimetype": "text/x-python",
   "name": "python",
   "nbconvert_exporter": "python",
   "pygments_lexer": "ipython3",
   "version": "3.13.5"
  }
 },
 "nbformat": 4,
 "nbformat_minor": 5
}
